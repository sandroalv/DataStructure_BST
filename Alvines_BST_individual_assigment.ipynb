{
  "cells": [
    {
      "cell_type": "code",
      "execution_count": 1,
      "metadata": {
        "id": "FNEF7yip6Wgv"
      },
      "outputs": [],
      "source": [
        "class Node:\n",
        "\n",
        "    def __init__(self, data, parent):\n",
        "        self.data = data\n",
        "        self.parent = parent\n",
        "        self.right_node = None\n",
        "        self.left_node = None"
      ]
    },
    {
      "cell_type": "code",
      "execution_count": 2,
      "metadata": {
        "id": "2m1dz8x76nos"
      },
      "outputs": [],
      "source": [
        "class BinarySearchTree:\n",
        "\n",
        "    def __init__(self):\n",
        "        self.root = None\n",
        "\n",
        "    def remove(self, data):\n",
        "        if self.root:\n",
        "            self.remove_node(data, self.root)\n",
        "\n",
        "    def insert(self, data):\n",
        "        if self.root is None:\n",
        "            self.root = Node(data, None)\n",
        "        else:\n",
        "            self.insert_node(data, self.root)\n",
        "\n",
        "    def insert_node(self, data, node):\n",
        "        # we have to go to the left subtree\n",
        "        if data < node.data:\n",
        "            if node.left_node:\n",
        "                self.insert_node(data, node.left_node)\n",
        "            else:\n",
        "                node.left_node = Node(data, node)\n",
        "        # we have to visit the right subtree\n",
        "        else:\n",
        "            if node.right_node:\n",
        "                self.insert_node(data, node.right_node)\n",
        "            else:\n",
        "                node.right_node = Node(data, node)\n",
        "\n",
        "    def remove_node(self, data, node):\n",
        "            if not node:\n",
        "                return None\n",
        "\n",
        "            if data < node.data:\n",
        "                self.remove_node(data, node.left_node)\n",
        "            elif data > node.data:\n",
        "                self.remove_node(data, node.right_node)\n",
        "\n",
        "            else:  # Found the node to be removed\n",
        "\n",
        "                # Handle the left child\n",
        "                if not node.left_node:\n",
        "                    if node == self.root:\n",
        "                        self.root = node.right_node\n",
        "                    else:\n",
        "                        node.parent.right_node = node.right_node\n",
        "\n",
        "                # Handle the right child\n",
        "                elif not node.right_node:\n",
        "                    if node == self.root:\n",
        "                        self.root = node.left_node\n",
        "                    else:\n",
        "                        node.parent.left_node = node.left_node\n",
        "\n",
        "                # Handle both children\n",
        "                else:\n",
        "                    predecessor = self.get_predecessor(node)\n",
        "\n",
        "                    # Replace the node's data with the predecessor's data\n",
        "                    node.data = predecessor.data\n",
        "\n",
        "                    # Remove the predecessor\n",
        "                    self.remove_node(predecessor.data, node)\n",
        "\n",
        "    ## def get_predecessor(self, node):\n",
        "    def get_predecessor(self, node):\n",
        "        if not node:\n",
        "            return None\n",
        "\n",
        "        # Check if the current node has a left child\n",
        "        if node.left_node:\n",
        "            return self.find_max(node.left_node)\n",
        "\n",
        "        # Otherwise, go up the tree to find the predecessor\n",
        "        while node.parent and node == node.parent.left_node:\n",
        "            node = node.parent\n",
        "\n",
        "        return node.parent\n",
        "\n",
        "    # to find the maximum value in a subtree\n",
        "    def find_max(self, node):\n",
        "        while node.right_node:\n",
        "            node = node.right_node\n",
        "        return node\n",
        "\n",
        "\n",
        "    ## def traverse(self):\n",
        "    def traverse(self):\n",
        "        if self.root:\n",
        "            self.in_order_traversal(self.root)\n",
        "\n",
        "    def in_order_traversal(self, node):\n",
        "        if node.left_node:\n",
        "            self.in_order_traversal(node.left_node)\n",
        "        print(node.data)\n",
        "        if node.right_node:\n",
        "            self.in_order_traversal(node.right_node)\n"
      ]
    },
    {
      "cell_type": "markdown",
      "metadata": {
        "id": "NNYA_2BdceG_"
      },
      "source": [
        "# **Define the delete node method**"
      ]
    },
    {
      "cell_type": "code",
      "execution_count": 3,
      "metadata": {},
      "outputs": [
        {
          "name": "stdout",
          "output_type": "stream",
          "text": [
            "Tree before removal:\n",
            "5\n",
            "10\n",
            "12\n",
            "15\n",
            "20\n",
            "22\n",
            "25\n",
            "\n",
            "Tree after removal:\n",
            "5\n",
            "10\n",
            "12\n",
            "15\n",
            "22\n",
            "25\n"
          ]
        }
      ],
      "source": [
        "# Example usage\n",
        "bst = BinarySearchTree()\n",
        "bst.insert(15)\n",
        "bst.insert(10)\n",
        "bst.insert(20)\n",
        "bst.insert(5)\n",
        "bst.insert(12)\n",
        "bst.insert(25)\n",
        "bst.insert(22)\n",
        "\n",
        "# Print the tree before removal\n",
        "print(\"Tree before removal:\")\n",
        "bst.traverse()\n",
        "\n",
        "# Let's remove the node with data 20\n",
        "node_to_remove = bst.root.right_node  # Node 20\n",
        "\n",
        "bst.remove_node(node_to_remove.data, bst.root)\n",
        "\n",
        "# Print the tree after removal\n",
        "print(\"\\nTree after removal:\")\n",
        "bst.traverse()\n",
        "\n"
      ]
    },
    {
      "cell_type": "markdown",
      "metadata": {
        "id": "QSkJoCtyc2bC"
      },
      "source": [
        "# **Define the get predecessor method**"
      ]
    },
    {
      "cell_type": "code",
      "execution_count": 4,
      "metadata": {},
      "outputs": [
        {
          "name": "stdout",
          "output_type": "stream",
          "text": [
            "Predecessor of node with data 30: 23\n"
          ]
        }
      ],
      "source": [
        "# Example usage\n",
        "bst = BinarySearchTree()\n",
        "bst.insert(15)\n",
        "bst.insert(10)\n",
        "bst.insert(20)\n",
        "bst.insert(5)\n",
        "bst.insert(12)\n",
        "bst.insert(25)\n",
        "bst.insert(22)\n",
        "bst.insert(30)\n",
        "bst.insert(23)\n",
        "bst.insert(34)\n",
        "\n",
        "# Let's get the predecessor of the node with data 25\n",
        "node_with_30 = bst.root.right_node.right_node  # This node has 25\n",
        "\n",
        "predecessor_node = bst.get_predecessor(node_with_30)\n",
        "if predecessor_node:\n",
        "    print(\"Predecessor of node with data 30:\", predecessor_node.data)\n",
        "else:\n",
        "    print(\"No predecessor found for the node with data 30\")"
      ]
    },
    {
      "cell_type": "markdown",
      "metadata": {
        "id": "iYvgSCXAc3Dc"
      },
      "source": [
        "# **Define the traverse method**"
      ]
    },
    {
      "cell_type": "code",
      "execution_count": 5,
      "metadata": {},
      "outputs": [
        {
          "name": "stdout",
          "output_type": "stream",
          "text": [
            "In-order traversal:\n",
            "2\n",
            "3\n",
            "4\n",
            "5\n",
            "6\n"
          ]
        }
      ],
      "source": [
        "bst = BinarySearchTree()\n",
        "bst.insert(5)\n",
        "bst.insert(3)\n",
        "bst.insert(2)\n",
        "bst.insert(4)\n",
        "bst.insert(6)\n",
        "\n",
        "print(\"In-order traversal:\")\n",
        "bst.traverse()\n"
      ]
    }
  ],
  "metadata": {
    "colab": {
      "provenance": []
    },
    "kernelspec": {
      "display_name": "Python 3",
      "name": "python3"
    },
    "language_info": {
      "codemirror_mode": {
        "name": "ipython",
        "version": 3
      },
      "file_extension": ".py",
      "mimetype": "text/x-python",
      "name": "python",
      "nbconvert_exporter": "python",
      "pygments_lexer": "ipython3",
      "version": "3.11.5"
    }
  },
  "nbformat": 4,
  "nbformat_minor": 0
}
